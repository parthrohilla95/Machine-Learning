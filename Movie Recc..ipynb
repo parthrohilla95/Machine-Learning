{
 "cells": [
  {
   "cell_type": "code",
   "execution_count": 62,
   "metadata": {},
   "outputs": [],
   "source": [
    "import pandas as pd\n",
    "import numpy as np"
   ]
  },
  {
   "cell_type": "code",
   "execution_count": 63,
   "metadata": {},
   "outputs": [],
   "source": [
    "data1=pd.read_csv(\"C:\\\\Users\\\\KARAN\\\\Desktop\\\\machine learning\\\\a movie rec. system\\\\movies data.csv\",usecols=['MovieID','Title','Genres'])\n",
    "data2=pd.read_csv(\"C:\\\\Users\\\\KARAN\\\\Desktop\\\\machine learning\\\\a movie rec. system\\\\ratings data.csv\",usecols=['UserID','MovieID','Rating','Timestamp'])"
   ]
  },
  {
   "cell_type": "code",
   "execution_count": 64,
   "metadata": {},
   "outputs": [
    {
     "data": {
      "text/plain": [
       "MovieID    0\n",
       "Title      0\n",
       "Genres     0\n",
       "dtype: int64"
      ]
     },
     "execution_count": 64,
     "metadata": {},
     "output_type": "execute_result"
    }
   ],
   "source": [
    "data1.isna().sum()"
   ]
  },
  {
   "cell_type": "code",
   "execution_count": 65,
   "metadata": {},
   "outputs": [
    {
     "data": {
      "text/plain": [
       "UserID       0\n",
       "MovieID      0\n",
       "Rating       0\n",
       "Timestamp    0\n",
       "dtype: int64"
      ]
     },
     "execution_count": 65,
     "metadata": {},
     "output_type": "execute_result"
    }
   ],
   "source": [
    "data2.isna().sum()"
   ]
  },
  {
   "cell_type": "code",
   "execution_count": 66,
   "metadata": {},
   "outputs": [
    {
     "data": {
      "text/html": [
       "<div>\n",
       "<style scoped>\n",
       "    .dataframe tbody tr th:only-of-type {\n",
       "        vertical-align: middle;\n",
       "    }\n",
       "\n",
       "    .dataframe tbody tr th {\n",
       "        vertical-align: top;\n",
       "    }\n",
       "\n",
       "    .dataframe thead th {\n",
       "        text-align: right;\n",
       "    }\n",
       "</style>\n",
       "<table border=\"1\" class=\"dataframe\">\n",
       "  <thead>\n",
       "    <tr style=\"text-align: right;\">\n",
       "      <th></th>\n",
       "      <th>MovieID</th>\n",
       "      <th>Title</th>\n",
       "      <th>Genres</th>\n",
       "    </tr>\n",
       "  </thead>\n",
       "  <tbody>\n",
       "    <tr>\n",
       "      <th>0</th>\n",
       "      <td>1</td>\n",
       "      <td>Toy Story (1995)</td>\n",
       "      <td>Animation|Children's|Comedy</td>\n",
       "    </tr>\n",
       "    <tr>\n",
       "      <th>1</th>\n",
       "      <td>2</td>\n",
       "      <td>Jumanji (1995)</td>\n",
       "      <td>Adventure|Children's|Fantasy</td>\n",
       "    </tr>\n",
       "    <tr>\n",
       "      <th>2</th>\n",
       "      <td>3</td>\n",
       "      <td>Grumpier Old Men (1995)</td>\n",
       "      <td>Comedy|Romance</td>\n",
       "    </tr>\n",
       "    <tr>\n",
       "      <th>3</th>\n",
       "      <td>4</td>\n",
       "      <td>Waiting to Exhale (1995)</td>\n",
       "      <td>Comedy|Drama</td>\n",
       "    </tr>\n",
       "    <tr>\n",
       "      <th>4</th>\n",
       "      <td>5</td>\n",
       "      <td>Father of the Bride Part II (1995)</td>\n",
       "      <td>Comedy</td>\n",
       "    </tr>\n",
       "  </tbody>\n",
       "</table>\n",
       "</div>"
      ],
      "text/plain": [
       "   MovieID                               Title                        Genres\n",
       "0        1                    Toy Story (1995)   Animation|Children's|Comedy\n",
       "1        2                      Jumanji (1995)  Adventure|Children's|Fantasy\n",
       "2        3             Grumpier Old Men (1995)                Comedy|Romance\n",
       "3        4            Waiting to Exhale (1995)                  Comedy|Drama\n",
       "4        5  Father of the Bride Part II (1995)                        Comedy"
      ]
     },
     "execution_count": 66,
     "metadata": {},
     "output_type": "execute_result"
    }
   ],
   "source": [
    "data1.head()"
   ]
  },
  {
   "cell_type": "code",
   "execution_count": 67,
   "metadata": {},
   "outputs": [
    {
     "data": {
      "text/html": [
       "<div>\n",
       "<style scoped>\n",
       "    .dataframe tbody tr th:only-of-type {\n",
       "        vertical-align: middle;\n",
       "    }\n",
       "\n",
       "    .dataframe tbody tr th {\n",
       "        vertical-align: top;\n",
       "    }\n",
       "\n",
       "    .dataframe thead th {\n",
       "        text-align: right;\n",
       "    }\n",
       "</style>\n",
       "<table border=\"1\" class=\"dataframe\">\n",
       "  <thead>\n",
       "    <tr style=\"text-align: right;\">\n",
       "      <th></th>\n",
       "      <th>UserID</th>\n",
       "      <th>MovieID</th>\n",
       "      <th>Rating</th>\n",
       "      <th>Timestamp</th>\n",
       "    </tr>\n",
       "  </thead>\n",
       "  <tbody>\n",
       "    <tr>\n",
       "      <th>0</th>\n",
       "      <td>1</td>\n",
       "      <td>1193</td>\n",
       "      <td>5</td>\n",
       "      <td>978300760</td>\n",
       "    </tr>\n",
       "    <tr>\n",
       "      <th>1</th>\n",
       "      <td>1</td>\n",
       "      <td>661</td>\n",
       "      <td>3</td>\n",
       "      <td>978302109</td>\n",
       "    </tr>\n",
       "    <tr>\n",
       "      <th>2</th>\n",
       "      <td>1</td>\n",
       "      <td>914</td>\n",
       "      <td>3</td>\n",
       "      <td>978301968</td>\n",
       "    </tr>\n",
       "    <tr>\n",
       "      <th>3</th>\n",
       "      <td>1</td>\n",
       "      <td>3408</td>\n",
       "      <td>4</td>\n",
       "      <td>978300275</td>\n",
       "    </tr>\n",
       "    <tr>\n",
       "      <th>4</th>\n",
       "      <td>1</td>\n",
       "      <td>2355</td>\n",
       "      <td>5</td>\n",
       "      <td>978824291</td>\n",
       "    </tr>\n",
       "  </tbody>\n",
       "</table>\n",
       "</div>"
      ],
      "text/plain": [
       "   UserID  MovieID  Rating  Timestamp\n",
       "0       1     1193       5  978300760\n",
       "1       1      661       3  978302109\n",
       "2       1      914       3  978301968\n",
       "3       1     3408       4  978300275\n",
       "4       1     2355       5  978824291"
      ]
     },
     "execution_count": 67,
     "metadata": {},
     "output_type": "execute_result"
    }
   ],
   "source": [
    "data2.head()"
   ]
  },
  {
   "cell_type": "code",
   "execution_count": 68,
   "metadata": {},
   "outputs": [],
   "source": [
    "data3=data1.merge(data2, on= 'MovieID', left_on=None, right_on=None, left_index=False)"
   ]
  },
  {
   "cell_type": "code",
   "execution_count": 69,
   "metadata": {},
   "outputs": [
    {
     "data": {
      "text/html": [
       "<div>\n",
       "<style scoped>\n",
       "    .dataframe tbody tr th:only-of-type {\n",
       "        vertical-align: middle;\n",
       "    }\n",
       "\n",
       "    .dataframe tbody tr th {\n",
       "        vertical-align: top;\n",
       "    }\n",
       "\n",
       "    .dataframe thead th {\n",
       "        text-align: right;\n",
       "    }\n",
       "</style>\n",
       "<table border=\"1\" class=\"dataframe\">\n",
       "  <thead>\n",
       "    <tr style=\"text-align: right;\">\n",
       "      <th></th>\n",
       "      <th>MovieID</th>\n",
       "      <th>Title</th>\n",
       "      <th>Genres</th>\n",
       "      <th>UserID</th>\n",
       "      <th>Rating</th>\n",
       "      <th>Timestamp</th>\n",
       "    </tr>\n",
       "  </thead>\n",
       "  <tbody>\n",
       "    <tr>\n",
       "      <th>0</th>\n",
       "      <td>1</td>\n",
       "      <td>Toy Story (1995)</td>\n",
       "      <td>Animation|Children's|Comedy</td>\n",
       "      <td>1</td>\n",
       "      <td>5</td>\n",
       "      <td>978824268</td>\n",
       "    </tr>\n",
       "    <tr>\n",
       "      <th>1</th>\n",
       "      <td>1</td>\n",
       "      <td>Toy Story (1995)</td>\n",
       "      <td>Animation|Children's|Comedy</td>\n",
       "      <td>6</td>\n",
       "      <td>4</td>\n",
       "      <td>978237008</td>\n",
       "    </tr>\n",
       "    <tr>\n",
       "      <th>2</th>\n",
       "      <td>1</td>\n",
       "      <td>Toy Story (1995)</td>\n",
       "      <td>Animation|Children's|Comedy</td>\n",
       "      <td>8</td>\n",
       "      <td>4</td>\n",
       "      <td>978233496</td>\n",
       "    </tr>\n",
       "    <tr>\n",
       "      <th>3</th>\n",
       "      <td>1</td>\n",
       "      <td>Toy Story (1995)</td>\n",
       "      <td>Animation|Children's|Comedy</td>\n",
       "      <td>9</td>\n",
       "      <td>5</td>\n",
       "      <td>978225952</td>\n",
       "    </tr>\n",
       "    <tr>\n",
       "      <th>4</th>\n",
       "      <td>1</td>\n",
       "      <td>Toy Story (1995)</td>\n",
       "      <td>Animation|Children's|Comedy</td>\n",
       "      <td>10</td>\n",
       "      <td>5</td>\n",
       "      <td>978226474</td>\n",
       "    </tr>\n",
       "  </tbody>\n",
       "</table>\n",
       "</div>"
      ],
      "text/plain": [
       "   MovieID             Title                       Genres  UserID  Rating  \\\n",
       "0        1  Toy Story (1995)  Animation|Children's|Comedy       1       5   \n",
       "1        1  Toy Story (1995)  Animation|Children's|Comedy       6       4   \n",
       "2        1  Toy Story (1995)  Animation|Children's|Comedy       8       4   \n",
       "3        1  Toy Story (1995)  Animation|Children's|Comedy       9       5   \n",
       "4        1  Toy Story (1995)  Animation|Children's|Comedy      10       5   \n",
       "\n",
       "   Timestamp  \n",
       "0  978824268  \n",
       "1  978237008  \n",
       "2  978233496  \n",
       "3  978225952  \n",
       "4  978226474  "
      ]
     },
     "execution_count": 69,
     "metadata": {},
     "output_type": "execute_result"
    }
   ],
   "source": [
    "data3=data3.drop_duplicates()\n",
    "data3.head()"
   ]
  },
  {
   "cell_type": "code",
   "execution_count": 70,
   "metadata": {},
   "outputs": [],
   "source": [
    "data3.drop(['Timestamp'],axis=1,inplace=True)"
   ]
  },
  {
   "cell_type": "code",
   "execution_count": 71,
   "metadata": {},
   "outputs": [
    {
     "data": {
      "text/plain": [
       "array([5, 4, 3, 2, 1], dtype=int64)"
      ]
     },
     "execution_count": 71,
     "metadata": {},
     "output_type": "execute_result"
    }
   ],
   "source": [
    "data3['Rating'].unique()"
   ]
  },
  {
   "cell_type": "code",
   "execution_count": 72,
   "metadata": {},
   "outputs": [],
   "source": [
    "data3=data3.groupby('Rating').get_group(5)"
   ]
  },
  {
   "cell_type": "code",
   "execution_count": 73,
   "metadata": {},
   "outputs": [
    {
     "data": {
      "text/html": [
       "<div>\n",
       "<style scoped>\n",
       "    .dataframe tbody tr th:only-of-type {\n",
       "        vertical-align: middle;\n",
       "    }\n",
       "\n",
       "    .dataframe tbody tr th {\n",
       "        vertical-align: top;\n",
       "    }\n",
       "\n",
       "    .dataframe thead th {\n",
       "        text-align: right;\n",
       "    }\n",
       "</style>\n",
       "<table border=\"1\" class=\"dataframe\">\n",
       "  <thead>\n",
       "    <tr style=\"text-align: right;\">\n",
       "      <th></th>\n",
       "      <th>MovieID</th>\n",
       "      <th>Title</th>\n",
       "      <th>Genres</th>\n",
       "      <th>UserID</th>\n",
       "      <th>Rating</th>\n",
       "    </tr>\n",
       "  </thead>\n",
       "  <tbody>\n",
       "    <tr>\n",
       "      <th>0</th>\n",
       "      <td>1</td>\n",
       "      <td>Toy Story (1995)</td>\n",
       "      <td>Animation|Children's|Comedy</td>\n",
       "      <td>1</td>\n",
       "      <td>5</td>\n",
       "    </tr>\n",
       "    <tr>\n",
       "      <th>3</th>\n",
       "      <td>1</td>\n",
       "      <td>Toy Story (1995)</td>\n",
       "      <td>Animation|Children's|Comedy</td>\n",
       "      <td>9</td>\n",
       "      <td>5</td>\n",
       "    </tr>\n",
       "    <tr>\n",
       "      <th>4</th>\n",
       "      <td>1</td>\n",
       "      <td>Toy Story (1995)</td>\n",
       "      <td>Animation|Children's|Comedy</td>\n",
       "      <td>10</td>\n",
       "      <td>5</td>\n",
       "    </tr>\n",
       "    <tr>\n",
       "      <th>6</th>\n",
       "      <td>1</td>\n",
       "      <td>Toy Story (1995)</td>\n",
       "      <td>Animation|Children's|Comedy</td>\n",
       "      <td>19</td>\n",
       "      <td>5</td>\n",
       "    </tr>\n",
       "    <tr>\n",
       "      <th>11</th>\n",
       "      <td>1</td>\n",
       "      <td>Toy Story (1995)</td>\n",
       "      <td>Animation|Children's|Comedy</td>\n",
       "      <td>34</td>\n",
       "      <td>5</td>\n",
       "    </tr>\n",
       "  </tbody>\n",
       "</table>\n",
       "</div>"
      ],
      "text/plain": [
       "    MovieID             Title                       Genres  UserID  Rating\n",
       "0         1  Toy Story (1995)  Animation|Children's|Comedy       1       5\n",
       "3         1  Toy Story (1995)  Animation|Children's|Comedy       9       5\n",
       "4         1  Toy Story (1995)  Animation|Children's|Comedy      10       5\n",
       "6         1  Toy Story (1995)  Animation|Children's|Comedy      19       5\n",
       "11        1  Toy Story (1995)  Animation|Children's|Comedy      34       5"
      ]
     },
     "execution_count": 73,
     "metadata": {},
     "output_type": "execute_result"
    }
   ],
   "source": [
    "data3.head()"
   ]
  },
  {
   "cell_type": "code",
   "execution_count": 74,
   "metadata": {},
   "outputs": [],
   "source": [
    "data3.drop('UserID',axis=1,inplace=True)"
   ]
  },
  {
   "cell_type": "code",
   "execution_count": 75,
   "metadata": {},
   "outputs": [
    {
     "data": {
      "text/html": [
       "<div>\n",
       "<style scoped>\n",
       "    .dataframe tbody tr th:only-of-type {\n",
       "        vertical-align: middle;\n",
       "    }\n",
       "\n",
       "    .dataframe tbody tr th {\n",
       "        vertical-align: top;\n",
       "    }\n",
       "\n",
       "    .dataframe thead th {\n",
       "        text-align: right;\n",
       "    }\n",
       "</style>\n",
       "<table border=\"1\" class=\"dataframe\">\n",
       "  <thead>\n",
       "    <tr style=\"text-align: right;\">\n",
       "      <th></th>\n",
       "      <th>MovieID</th>\n",
       "      <th>Title</th>\n",
       "      <th>Genres</th>\n",
       "      <th>Rating</th>\n",
       "    </tr>\n",
       "  </thead>\n",
       "  <tbody>\n",
       "    <tr>\n",
       "      <th>0</th>\n",
       "      <td>1</td>\n",
       "      <td>Toy Story (1995)</td>\n",
       "      <td>Animation|Children's|Comedy</td>\n",
       "      <td>5</td>\n",
       "    </tr>\n",
       "    <tr>\n",
       "      <th>3</th>\n",
       "      <td>1</td>\n",
       "      <td>Toy Story (1995)</td>\n",
       "      <td>Animation|Children's|Comedy</td>\n",
       "      <td>5</td>\n",
       "    </tr>\n",
       "    <tr>\n",
       "      <th>4</th>\n",
       "      <td>1</td>\n",
       "      <td>Toy Story (1995)</td>\n",
       "      <td>Animation|Children's|Comedy</td>\n",
       "      <td>5</td>\n",
       "    </tr>\n",
       "    <tr>\n",
       "      <th>6</th>\n",
       "      <td>1</td>\n",
       "      <td>Toy Story (1995)</td>\n",
       "      <td>Animation|Children's|Comedy</td>\n",
       "      <td>5</td>\n",
       "    </tr>\n",
       "    <tr>\n",
       "      <th>11</th>\n",
       "      <td>1</td>\n",
       "      <td>Toy Story (1995)</td>\n",
       "      <td>Animation|Children's|Comedy</td>\n",
       "      <td>5</td>\n",
       "    </tr>\n",
       "  </tbody>\n",
       "</table>\n",
       "</div>"
      ],
      "text/plain": [
       "    MovieID             Title                       Genres  Rating\n",
       "0         1  Toy Story (1995)  Animation|Children's|Comedy       5\n",
       "3         1  Toy Story (1995)  Animation|Children's|Comedy       5\n",
       "4         1  Toy Story (1995)  Animation|Children's|Comedy       5\n",
       "6         1  Toy Story (1995)  Animation|Children's|Comedy       5\n",
       "11        1  Toy Story (1995)  Animation|Children's|Comedy       5"
      ]
     },
     "execution_count": 75,
     "metadata": {},
     "output_type": "execute_result"
    }
   ],
   "source": [
    "data3.head()"
   ]
  },
  {
   "cell_type": "code",
   "execution_count": 76,
   "metadata": {},
   "outputs": [],
   "source": [
    "data3.drop_duplicates(inplace=True)"
   ]
  },
  {
   "cell_type": "code",
   "execution_count": 77,
   "metadata": {},
   "outputs": [],
   "source": [
    "Target=data3.Title"
   ]
  },
  {
   "cell_type": "code",
   "execution_count": 78,
   "metadata": {},
   "outputs": [],
   "source": [
    "data3=data3.drop('Title',axis=1)"
   ]
  },
  {
   "cell_type": "code",
   "execution_count": 79,
   "metadata": {},
   "outputs": [],
   "source": [
    "train=data3.Genres"
   ]
  },
  {
   "cell_type": "code",
   "execution_count": 80,
   "metadata": {},
   "outputs": [],
   "source": [
    "train=pd.get_dummies(train)"
   ]
  },
  {
   "cell_type": "code",
   "execution_count": 81,
   "metadata": {},
   "outputs": [
    {
     "data": {
      "text/html": [
       "<div>\n",
       "<style scoped>\n",
       "    .dataframe tbody tr th:only-of-type {\n",
       "        vertical-align: middle;\n",
       "    }\n",
       "\n",
       "    .dataframe tbody tr th {\n",
       "        vertical-align: top;\n",
       "    }\n",
       "\n",
       "    .dataframe thead th {\n",
       "        text-align: right;\n",
       "    }\n",
       "</style>\n",
       "<table border=\"1\" class=\"dataframe\">\n",
       "  <thead>\n",
       "    <tr style=\"text-align: right;\">\n",
       "      <th></th>\n",
       "      <th>MovieID</th>\n",
       "      <th>Genres</th>\n",
       "      <th>Rating</th>\n",
       "    </tr>\n",
       "  </thead>\n",
       "  <tbody>\n",
       "    <tr>\n",
       "      <th>0</th>\n",
       "      <td>1</td>\n",
       "      <td>Animation|Children's|Comedy</td>\n",
       "      <td>5</td>\n",
       "    </tr>\n",
       "    <tr>\n",
       "      <th>2077</th>\n",
       "      <td>2</td>\n",
       "      <td>Adventure|Children's|Fantasy</td>\n",
       "      <td>5</td>\n",
       "    </tr>\n",
       "    <tr>\n",
       "      <th>2781</th>\n",
       "      <td>3</td>\n",
       "      <td>Comedy|Romance</td>\n",
       "      <td>5</td>\n",
       "    </tr>\n",
       "    <tr>\n",
       "      <th>3269</th>\n",
       "      <td>4</td>\n",
       "      <td>Comedy|Drama</td>\n",
       "      <td>5</td>\n",
       "    </tr>\n",
       "    <tr>\n",
       "      <th>3426</th>\n",
       "      <td>5</td>\n",
       "      <td>Comedy</td>\n",
       "      <td>5</td>\n",
       "    </tr>\n",
       "  </tbody>\n",
       "</table>\n",
       "</div>"
      ],
      "text/plain": [
       "      MovieID                        Genres  Rating\n",
       "0           1   Animation|Children's|Comedy       5\n",
       "2077        2  Adventure|Children's|Fantasy       5\n",
       "2781        3                Comedy|Romance       5\n",
       "3269        4                  Comedy|Drama       5\n",
       "3426        5                        Comedy       5"
      ]
     },
     "execution_count": 81,
     "metadata": {},
     "output_type": "execute_result"
    }
   ],
   "source": [
    "train\n",
    "data3.head()"
   ]
  },
  {
   "cell_type": "code",
   "execution_count": 82,
   "metadata": {},
   "outputs": [],
   "source": [
    "from sklearn.neighbors import KNeighborsClassifier"
   ]
  },
  {
   "cell_type": "code",
   "execution_count": 121,
   "metadata": {},
   "outputs": [
    {
     "data": {
      "text/html": [
       "<div>\n",
       "<style scoped>\n",
       "    .dataframe tbody tr th:only-of-type {\n",
       "        vertical-align: middle;\n",
       "    }\n",
       "\n",
       "    .dataframe tbody tr th {\n",
       "        vertical-align: top;\n",
       "    }\n",
       "\n",
       "    .dataframe thead th {\n",
       "        text-align: right;\n",
       "    }\n",
       "</style>\n",
       "<table border=\"1\" class=\"dataframe\">\n",
       "  <thead>\n",
       "    <tr style=\"text-align: right;\">\n",
       "      <th></th>\n",
       "      <th>Action</th>\n",
       "      <th>Action|Adventure</th>\n",
       "      <th>Action|Adventure|Animation</th>\n",
       "      <th>Action|Adventure|Animation|Children's|Fantasy</th>\n",
       "      <th>Action|Adventure|Animation|Horror|Sci-Fi</th>\n",
       "      <th>Action|Adventure|Children's|Comedy</th>\n",
       "      <th>Action|Adventure|Children's|Fantasy</th>\n",
       "      <th>Action|Adventure|Children's|Sci-Fi</th>\n",
       "      <th>Action|Adventure|Comedy</th>\n",
       "      <th>Action|Adventure|Comedy|Crime</th>\n",
       "      <th>...</th>\n",
       "      <th>Romance|War</th>\n",
       "      <th>Romance|Western</th>\n",
       "      <th>Sci-Fi</th>\n",
       "      <th>Sci-Fi|Thriller</th>\n",
       "      <th>Sci-Fi|Thriller|War</th>\n",
       "      <th>Sci-Fi|War</th>\n",
       "      <th>Thriller</th>\n",
       "      <th>War</th>\n",
       "      <th>Western</th>\n",
       "      <th>index</th>\n",
       "    </tr>\n",
       "  </thead>\n",
       "  <tbody>\n",
       "    <tr>\n",
       "      <th>0</th>\n",
       "      <td>0</td>\n",
       "      <td>0</td>\n",
       "      <td>0</td>\n",
       "      <td>0</td>\n",
       "      <td>0</td>\n",
       "      <td>0</td>\n",
       "      <td>0</td>\n",
       "      <td>0</td>\n",
       "      <td>0</td>\n",
       "      <td>0</td>\n",
       "      <td>...</td>\n",
       "      <td>0</td>\n",
       "      <td>0</td>\n",
       "      <td>0</td>\n",
       "      <td>0</td>\n",
       "      <td>0</td>\n",
       "      <td>0</td>\n",
       "      <td>0</td>\n",
       "      <td>0</td>\n",
       "      <td>0</td>\n",
       "      <td>0</td>\n",
       "    </tr>\n",
       "    <tr>\n",
       "      <th>2077</th>\n",
       "      <td>0</td>\n",
       "      <td>0</td>\n",
       "      <td>0</td>\n",
       "      <td>0</td>\n",
       "      <td>0</td>\n",
       "      <td>0</td>\n",
       "      <td>0</td>\n",
       "      <td>0</td>\n",
       "      <td>0</td>\n",
       "      <td>0</td>\n",
       "      <td>...</td>\n",
       "      <td>0</td>\n",
       "      <td>0</td>\n",
       "      <td>0</td>\n",
       "      <td>0</td>\n",
       "      <td>0</td>\n",
       "      <td>0</td>\n",
       "      <td>0</td>\n",
       "      <td>0</td>\n",
       "      <td>0</td>\n",
       "      <td>1</td>\n",
       "    </tr>\n",
       "    <tr>\n",
       "      <th>2781</th>\n",
       "      <td>0</td>\n",
       "      <td>0</td>\n",
       "      <td>0</td>\n",
       "      <td>0</td>\n",
       "      <td>0</td>\n",
       "      <td>0</td>\n",
       "      <td>0</td>\n",
       "      <td>0</td>\n",
       "      <td>0</td>\n",
       "      <td>0</td>\n",
       "      <td>...</td>\n",
       "      <td>0</td>\n",
       "      <td>0</td>\n",
       "      <td>0</td>\n",
       "      <td>0</td>\n",
       "      <td>0</td>\n",
       "      <td>0</td>\n",
       "      <td>0</td>\n",
       "      <td>0</td>\n",
       "      <td>0</td>\n",
       "      <td>2</td>\n",
       "    </tr>\n",
       "    <tr>\n",
       "      <th>3269</th>\n",
       "      <td>0</td>\n",
       "      <td>0</td>\n",
       "      <td>0</td>\n",
       "      <td>0</td>\n",
       "      <td>0</td>\n",
       "      <td>0</td>\n",
       "      <td>0</td>\n",
       "      <td>0</td>\n",
       "      <td>0</td>\n",
       "      <td>0</td>\n",
       "      <td>...</td>\n",
       "      <td>0</td>\n",
       "      <td>0</td>\n",
       "      <td>0</td>\n",
       "      <td>0</td>\n",
       "      <td>0</td>\n",
       "      <td>0</td>\n",
       "      <td>0</td>\n",
       "      <td>0</td>\n",
       "      <td>0</td>\n",
       "      <td>3</td>\n",
       "    </tr>\n",
       "    <tr>\n",
       "      <th>3426</th>\n",
       "      <td>0</td>\n",
       "      <td>0</td>\n",
       "      <td>0</td>\n",
       "      <td>0</td>\n",
       "      <td>0</td>\n",
       "      <td>0</td>\n",
       "      <td>0</td>\n",
       "      <td>0</td>\n",
       "      <td>0</td>\n",
       "      <td>0</td>\n",
       "      <td>...</td>\n",
       "      <td>0</td>\n",
       "      <td>0</td>\n",
       "      <td>0</td>\n",
       "      <td>0</td>\n",
       "      <td>0</td>\n",
       "      <td>0</td>\n",
       "      <td>0</td>\n",
       "      <td>0</td>\n",
       "      <td>0</td>\n",
       "      <td>4</td>\n",
       "    </tr>\n",
       "  </tbody>\n",
       "</table>\n",
       "<p>5 rows × 297 columns</p>\n",
       "</div>"
      ],
      "text/plain": [
       "      Action  Action|Adventure  Action|Adventure|Animation  \\\n",
       "0          0                 0                           0   \n",
       "2077       0                 0                           0   \n",
       "2781       0                 0                           0   \n",
       "3269       0                 0                           0   \n",
       "3426       0                 0                           0   \n",
       "\n",
       "      Action|Adventure|Animation|Children's|Fantasy  \\\n",
       "0                                                 0   \n",
       "2077                                              0   \n",
       "2781                                              0   \n",
       "3269                                              0   \n",
       "3426                                              0   \n",
       "\n",
       "      Action|Adventure|Animation|Horror|Sci-Fi  \\\n",
       "0                                            0   \n",
       "2077                                         0   \n",
       "2781                                         0   \n",
       "3269                                         0   \n",
       "3426                                         0   \n",
       "\n",
       "      Action|Adventure|Children's|Comedy  Action|Adventure|Children's|Fantasy  \\\n",
       "0                                      0                                    0   \n",
       "2077                                   0                                    0   \n",
       "2781                                   0                                    0   \n",
       "3269                                   0                                    0   \n",
       "3426                                   0                                    0   \n",
       "\n",
       "      Action|Adventure|Children's|Sci-Fi  Action|Adventure|Comedy  \\\n",
       "0                                      0                        0   \n",
       "2077                                   0                        0   \n",
       "2781                                   0                        0   \n",
       "3269                                   0                        0   \n",
       "3426                                   0                        0   \n",
       "\n",
       "      Action|Adventure|Comedy|Crime  ...    Romance|War  Romance|Western  \\\n",
       "0                                 0  ...              0                0   \n",
       "2077                              0  ...              0                0   \n",
       "2781                              0  ...              0                0   \n",
       "3269                              0  ...              0                0   \n",
       "3426                              0  ...              0                0   \n",
       "\n",
       "      Sci-Fi  Sci-Fi|Thriller  Sci-Fi|Thriller|War  Sci-Fi|War  Thriller  War  \\\n",
       "0          0                0                    0           0         0    0   \n",
       "2077       0                0                    0           0         0    0   \n",
       "2781       0                0                    0           0         0    0   \n",
       "3269       0                0                    0           0         0    0   \n",
       "3426       0                0                    0           0         0    0   \n",
       "\n",
       "      Western  index  \n",
       "0           0      0  \n",
       "2077        0      1  \n",
       "2781        0      2  \n",
       "3269        0      3  \n",
       "3426        0      4  \n",
       "\n",
       "[5 rows x 297 columns]"
      ]
     },
     "execution_count": 121,
     "metadata": {},
     "output_type": "execute_result"
    }
   ],
   "source": [
    "data3['index']=[i for i in range(0,3232)]\n",
    "train['index']=[i for i in range(0,3232)]\n",
    "model=KNeighborsClassifier(n_neighbors=10)\n",
    "train.head()"
   ]
  },
  {
   "cell_type": "code",
   "execution_count": 122,
   "metadata": {},
   "outputs": [],
   "source": [
    "from sklearn.externals import joblib"
   ]
  },
  {
   "cell_type": "code",
   "execution_count": 123,
   "metadata": {},
   "outputs": [
    {
     "data": {
      "text/plain": [
       "['C:\\\\Users\\\\KARAN\\\\Desktop\\\\machine learning\\\\a movie rec. system\\\\model']"
      ]
     },
     "execution_count": 123,
     "metadata": {},
     "output_type": "execute_result"
    }
   ],
   "source": [
    "joblib.dump(model.fit(train.iloc[:,0:-1],Target),\"C:\\\\Users\\\\KARAN\\\\Desktop\\\\machine learning\\\\a movie rec. system\\\\model\")"
   ]
  },
  {
   "cell_type": "code",
   "execution_count": 124,
   "metadata": {},
   "outputs": [
    {
     "name": "stdout",
     "output_type": "stream",
     "text": [
      "Enter any one of the following genres or genres of your choice seperated by \"|\" ___\n",
      "                       *Enter the genres in an alphabetical order*\n",
      " \n",
      "Adventure|Children's|Musical\n",
      " or \n",
      "Action|Adventure|Drama|Romance\n",
      " or \n",
      "Adventure|Animation|Children's|Comedy|Fantasy\n",
      " or \n",
      "Comedy|Horror|Sci-Fi\n",
      " or \n",
      "Action|Adventure|Comedy|Horror|Sci-Fi\n",
      " or \n",
      "Action|Mystery|Sci-Fi|Thriller\n",
      " or \n",
      "Children's|Drama|Fantasy|Sci-Fi\n",
      " or \n",
      "Action|Adventure|Fantasy\n",
      " or \n",
      "Action|Crime|Romance\n",
      " or \n",
      "Comedy|Drama|Romance\n",
      " or \n",
      "\"Your choice in the given format\"\n",
      "Enter a Genre - Adventure\n",
      "\n",
      "\n",
      "Your Recommendations are -\n",
      "                                            0\n",
      "0   Darby O'Gill and the Little People (1959)\n",
      "1                               Alaska (1996)\n",
      "2                             Anaconda (1997)\n",
      "3                     Cutthroat Island (1995)\n",
      "4    Baby... Secret of the Lost Legend (1985)\n",
      "5        Adventures of Robin Hood, The (1938)\n",
      "7                           Beach, The (2000)\n",
      "8                              Catwalk (1995)\n",
      "9                       Batman & Robin (1997)\n",
      "12                   Air Up There, The (1994)\n",
      "14               Anne Frank Remembered (1995)\n",
      "16                    Before and After (1996)\n",
      "17                         Judge Dredd (1995)\n",
      "20            Clear and Present Danger (1994)\n",
      "21                       Picture Bride (1995)\n"
     ]
    }
   ],
   "source": [
    "print('Enter any one of the following genres or genres of your choice seperated by \"|\" ___')\n",
    "print(\"                       *Enter the genres in an alphabetical order*\",end=\"\\n \\n\")\n",
    "l=list(train.columns)\n",
    "for i in range(10):\n",
    "    print(l[np.random.randint(0,200)],end=\"\\n or \\n\")\n",
    "print('\"Your choice in the given format\"')\n",
    "\n",
    "string=input(\"Enter a Genre - \")\n",
    "if string not in l:\n",
    "    print(\"Sorry the genre is not present please try again. Do enter the genres in an alphabetical order.\")\n",
    "else:\n",
    "    test=train[data3['Genres'].str.find(string)!=-1]\n",
    "    ar=model.predict(test.iloc[:,0:-1])\n",
    "    ar=pd.DataFrame(ar)\n",
    "    ar.drop_duplicates(inplace=True)\n",
    "    print(\"\\n\\nYour Recommendations are -\")\n",
    "    if(len(ar)<15):\n",
    "        print(ar.iloc[:,:])\n",
    "    else:\n",
    "        print(ar.iloc[0:15,:])"
   ]
  },
  {
   "cell_type": "code",
   "execution_count": 102,
   "metadata": {},
   "outputs": [
    {
     "data": {
      "text/plain": [
       "'\\nfrom tkinter import*root=Tk()\\nroot.geometry(\\'400x100\\')\\nf1=Frame(root,bg=\\'Cyan\\')\\nf1.pack(expand=TRUE,fill=BOTH)\\nl1=Label(f1,text=\\'Movies Recomendation System \\n \\n \\n\\',bg=\\'Cyan\\',font=100)\\nl1.pack()\\n\\n\\nk1=Label(f1,bg=\\'Cyan\\',text=\\'Enter any one of the following genres or genres of your choice seperated by \"|\" ___\\')\\nk1.pack()\\nk2=Label(f1,bg=\\'Cyan\\',fg=\\'red\\',text=\"*Enter the genres in an alphabetical order*\\n\\n\")\\nk2.pack()\\n\\nf2=Frame(root,bg=\\'Cyan\\')\\nf2.pack(expand=TRUE,fill=BOTH)\\nl=list(train.columns)\\n\\nfor i in range(10):\\n    #print(end=\"\\n or \\n\")\\n    l2=Label(f1,bg=\\'Cyan\\',text=l[np.random.randint(0,200)]+\\'\\n\\n\\')\\n    l2.pack()\\n\\ne1=Entry(root)\\ne1.pack()\\n#root.mainloop()\\ndef submit():\\n    global l2\\n    l2.destroy()\\n    try:\\n        string=e1.get()\\n        test=train[data3[\\'Genres\\'].str.find(string)!=-1]\\n        ar=model.predict(test.iloc[:,0:-1])\\n        ar=pd.DataFrame(ar)\\n        ar.drop_duplicates(inplace=True)\\n        e1.delete(0,END)\\n        #print(\"\\n\\nYour Recommendations are -\")\\n        try:\\n            if(len(ar)<15):\\n                root1=Tk()\\n                f0=Frame(root1)\\n                f0.pack()\\n                l3=Label(f0,text=ar.iloc[:,:].values,bg=\\'Cyan\\',font=100)\\n                l3.pack()\\n                root1.mainloop()\\n            else:\\n                root1=Tk()\\n                f0=Frame(root1)\\n                f0.pack()    \\n                l3=Label(f0,text=ar.iloc[0:15,:].values,bg=\\'Cyan\\',font=100)\\n                l3.pack()                \\n                root1.mainloop()\\n        except:\\n            f=0\\n    except:\\n        l2=Label(f1,bg=\\'Cyan\\',text=\"Sorry the genre is not present please try again. Do enter the genres in an alphabetical order.\")\\n        l2.pack()\\n\\nb1=Button(root,text=\\'Submit\\',command=submit)\\nb1.pack()\\n\\nroot.mainloop()'"
      ]
     },
     "execution_count": 102,
     "metadata": {},
     "output_type": "execute_result"
    }
   ],
   "source": [
    "'''\n",
    "from tkinter import*root=Tk()\n",
    "root.geometry('400x100')\n",
    "f1=Frame(root,bg='Cyan')\n",
    "f1.pack(expand=TRUE,fill=BOTH)\n",
    "l1=Label(f1,text='Movies Recomendation System \\n \\n \\n',bg='Cyan',font=100)\n",
    "l1.pack()\n",
    "\n",
    "\n",
    "k1=Label(f1,bg='Cyan',text='Enter any one of the following genres or genres of your choice seperated by \"|\" ___')\n",
    "k1.pack()\n",
    "k2=Label(f1,bg='Cyan',fg='red',text=\"*Enter the genres in an alphabetical order*\\n\\n\")\n",
    "k2.pack()\n",
    "\n",
    "f2=Frame(root,bg='Cyan')\n",
    "f2.pack(expand=TRUE,fill=BOTH)\n",
    "l=list(train.columns)\n",
    "\n",
    "for i in range(10):\n",
    "    #print(end=\"\\n or \\n\")\n",
    "    l2=Label(f1,bg='Cyan',text=l[np.random.randint(0,200)]+'\\n\\n')\n",
    "    l2.pack()\n",
    "\n",
    "e1=Entry(root)\n",
    "e1.pack()\n",
    "#root.mainloop()\n",
    "def submit():\n",
    "    global l2\n",
    "    l2.destroy()\n",
    "    try:\n",
    "        string=e1.get()\n",
    "        test=train[data3['Genres'].str.find(string)!=-1]\n",
    "        ar=model.predict(test.iloc[:,0:-1])\n",
    "        ar=pd.DataFrame(ar)\n",
    "        ar.drop_duplicates(inplace=True)\n",
    "        e1.delete(0,END)\n",
    "        #print(\"\\n\\nYour Recommendations are -\")\n",
    "        try:\n",
    "            if(len(ar)<15):\n",
    "                root1=Tk()\n",
    "                f0=Frame(root1)\n",
    "                f0.pack()\n",
    "                l3=Label(f0,text=ar.iloc[:,:].values,bg='Cyan',font=100)\n",
    "                l3.pack()\n",
    "                root1.mainloop()\n",
    "            else:\n",
    "                root1=Tk()\n",
    "                f0=Frame(root1)\n",
    "                f0.pack()    \n",
    "                l3=Label(f0,text=ar.iloc[0:15,:].values,bg='Cyan',font=100)\n",
    "                l3.pack()                \n",
    "                root1.mainloop()\n",
    "        except:\n",
    "            f=0\n",
    "    except:\n",
    "        l2=Label(f1,bg='Cyan',text=\"Sorry the genre is not present please try again. Do enter the genres in an alphabetical order.\")\n",
    "        l2.pack()\n",
    "\n",
    "b1=Button(root,text='Submit',command=submit)\n",
    "b1.pack()\n",
    "\n",
    "root.mainloop()'''"
   ]
  },
  {
   "cell_type": "code",
   "execution_count": 137,
   "metadata": {},
   "outputs": [
    {
     "data": {
      "text/html": [
       "<div>\n",
       "<style scoped>\n",
       "    .dataframe tbody tr th:only-of-type {\n",
       "        vertical-align: middle;\n",
       "    }\n",
       "\n",
       "    .dataframe tbody tr th {\n",
       "        vertical-align: top;\n",
       "    }\n",
       "\n",
       "    .dataframe thead th {\n",
       "        text-align: right;\n",
       "    }\n",
       "</style>\n",
       "<table border=\"1\" class=\"dataframe\">\n",
       "  <thead>\n",
       "    <tr style=\"text-align: right;\">\n",
       "      <th></th>\n",
       "      <th>MovieID</th>\n",
       "      <th>Title</th>\n",
       "      <th>Genres</th>\n",
       "    </tr>\n",
       "  </thead>\n",
       "  <tbody>\n",
       "    <tr>\n",
       "      <th>1</th>\n",
       "      <td>2</td>\n",
       "      <td>Jumanji (1995)</td>\n",
       "      <td>Adventure|Children's|Fantasy</td>\n",
       "    </tr>\n",
       "  </tbody>\n",
       "</table>\n",
       "</div>"
      ],
      "text/plain": [
       "   MovieID           Title                        Genres\n",
       "1        2  Jumanji (1995)  Adventure|Children's|Fantasy"
      ]
     },
     "execution_count": 137,
     "metadata": {},
     "output_type": "execute_result"
    }
   ],
   "source": [
    "data1[data1.MovieID==2]"
   ]
  },
  {
   "cell_type": "code",
   "execution_count": 130,
   "metadata": {},
   "outputs": [],
   "source": [
    "l=[]\n",
    "l.append(train.iloc[1,:-1])\n",
    "pb=model.predict(l)"
   ]
  },
  {
   "cell_type": "code",
   "execution_count": 131,
   "metadata": {},
   "outputs": [
    {
     "data": {
      "text/plain": [
       "array([\"Darby O'Gill and the Little People (1959)\"], dtype=object)"
      ]
     },
     "execution_count": 131,
     "metadata": {},
     "output_type": "execute_result"
    }
   ],
   "source": [
    "pb"
   ]
  },
  {
   "cell_type": "code",
   "execution_count": 132,
   "metadata": {},
   "outputs": [
    {
     "data": {
      "text/plain": [
       "MovieID                               2\n",
       "Genres     Adventure|Children's|Fantasy\n",
       "Rating                                5\n",
       "index                                 1\n",
       "Name: 2077, dtype: object"
      ]
     },
     "execution_count": 132,
     "metadata": {},
     "output_type": "execute_result"
    }
   ],
   "source": [
    "data3.iloc[1]"
   ]
  },
  {
   "cell_type": "code",
   "execution_count": 139,
   "metadata": {},
   "outputs": [
    {
     "data": {
      "text/plain": [
       "(3883, 3)"
      ]
     },
     "execution_count": 139,
     "metadata": {},
     "output_type": "execute_result"
    }
   ],
   "source": []
  },
  {
   "cell_type": "code",
   "execution_count": null,
   "metadata": {},
   "outputs": [],
   "source": []
  }
 ],
 "metadata": {
  "kernelspec": {
   "display_name": "Python 3",
   "language": "python",
   "name": "python3"
  },
  "language_info": {
   "codemirror_mode": {
    "name": "ipython",
    "version": 3
   },
   "file_extension": ".py",
   "mimetype": "text/x-python",
   "name": "python",
   "nbconvert_exporter": "python",
   "pygments_lexer": "ipython3",
   "version": "3.6.5"
  }
 },
 "nbformat": 4,
 "nbformat_minor": 2
}
